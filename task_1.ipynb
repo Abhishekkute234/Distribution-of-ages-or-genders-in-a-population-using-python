{
 "cells": [
  {
   "cell_type": "code",
   "execution_count": 1,
   "id": "774d4518",
   "metadata": {},
   "outputs": [],
   "source": [
    "import pandas as pd\n",
    "import matplotlib.pyplot as plt\n",
    "import numpy as np \n"
   ]
  },
  {
   "cell_type": "code",
   "execution_count": 2,
   "id": "5f49ecb2",
   "metadata": {
    "scrolled": true
   },
   "outputs": [
    {
     "data": {
      "text/html": [
       "<div>\n",
       "<style scoped>\n",
       "    .dataframe tbody tr th:only-of-type {\n",
       "        vertical-align: middle;\n",
       "    }\n",
       "\n",
       "    .dataframe tbody tr th {\n",
       "        vertical-align: top;\n",
       "    }\n",
       "\n",
       "    .dataframe thead th {\n",
       "        text-align: right;\n",
       "    }\n",
       "</style>\n",
       "<table border=\"1\" class=\"dataframe\">\n",
       "  <thead>\n",
       "    <tr style=\"text-align: right;\">\n",
       "      <th></th>\n",
       "      <th>Country or Area</th>\n",
       "      <th>Year</th>\n",
       "      <th>Area</th>\n",
       "      <th>Sex</th>\n",
       "      <th>Age</th>\n",
       "      <th>Record Type</th>\n",
       "      <th>Reliability</th>\n",
       "      <th>Source Year</th>\n",
       "      <th>Value</th>\n",
       "      <th>Value Footnotes</th>\n",
       "    </tr>\n",
       "  </thead>\n",
       "  <tbody>\n",
       "    <tr>\n",
       "      <th>84054</th>\n",
       "      <td>Åland Islands</td>\n",
       "      <td>2018</td>\n",
       "      <td>Total</td>\n",
       "      <td>Both Sexes</td>\n",
       "      <td>0</td>\n",
       "      <td>Estimate - de jure</td>\n",
       "      <td>Final figure, complete</td>\n",
       "      <td>2019</td>\n",
       "      <td>287.5</td>\n",
       "      <td>1</td>\n",
       "    </tr>\n",
       "    <tr>\n",
       "      <th>84056</th>\n",
       "      <td>Åland Islands</td>\n",
       "      <td>2018</td>\n",
       "      <td>Total</td>\n",
       "      <td>Both Sexes</td>\n",
       "      <td>1</td>\n",
       "      <td>Estimate - de jure</td>\n",
       "      <td>Final figure, complete</td>\n",
       "      <td>2019</td>\n",
       "      <td>302.0</td>\n",
       "      <td>1</td>\n",
       "    </tr>\n",
       "    <tr>\n",
       "      <th>84058</th>\n",
       "      <td>Åland Islands</td>\n",
       "      <td>2018</td>\n",
       "      <td>Total</td>\n",
       "      <td>Both Sexes</td>\n",
       "      <td>2</td>\n",
       "      <td>Estimate - de jure</td>\n",
       "      <td>Final figure, complete</td>\n",
       "      <td>2019</td>\n",
       "      <td>320.0</td>\n",
       "      <td>1</td>\n",
       "    </tr>\n",
       "    <tr>\n",
       "      <th>84059</th>\n",
       "      <td>Åland Islands</td>\n",
       "      <td>2018</td>\n",
       "      <td>Total</td>\n",
       "      <td>Both Sexes</td>\n",
       "      <td>3</td>\n",
       "      <td>Estimate - de jure</td>\n",
       "      <td>Final figure, complete</td>\n",
       "      <td>2019</td>\n",
       "      <td>317.5</td>\n",
       "      <td>1</td>\n",
       "    </tr>\n",
       "    <tr>\n",
       "      <th>84060</th>\n",
       "      <td>Åland Islands</td>\n",
       "      <td>2018</td>\n",
       "      <td>Total</td>\n",
       "      <td>Both Sexes</td>\n",
       "      <td>4</td>\n",
       "      <td>Estimate - de jure</td>\n",
       "      <td>Final figure, complete</td>\n",
       "      <td>2019</td>\n",
       "      <td>330.0</td>\n",
       "      <td>1</td>\n",
       "    </tr>\n",
       "    <tr>\n",
       "      <th>...</th>\n",
       "      <td>...</td>\n",
       "      <td>...</td>\n",
       "      <td>...</td>\n",
       "      <td>...</td>\n",
       "      <td>...</td>\n",
       "      <td>...</td>\n",
       "      <td>...</td>\n",
       "      <td>...</td>\n",
       "      <td>...</td>\n",
       "      <td>...</td>\n",
       "    </tr>\n",
       "    <tr>\n",
       "      <th>161517</th>\n",
       "      <td>Uganda</td>\n",
       "      <td>2014</td>\n",
       "      <td>Total</td>\n",
       "      <td>Both Sexes</td>\n",
       "      <td>90</td>\n",
       "      <td>Census - de facto - complete tabulation</td>\n",
       "      <td>Final figure, complete</td>\n",
       "      <td>2017</td>\n",
       "      <td>17114.0</td>\n",
       "      <td>NaN</td>\n",
       "    </tr>\n",
       "    <tr>\n",
       "      <th>161519</th>\n",
       "      <td>Uganda</td>\n",
       "      <td>2014</td>\n",
       "      <td>Total</td>\n",
       "      <td>Both Sexes</td>\n",
       "      <td>91</td>\n",
       "      <td>Census - de facto - complete tabulation</td>\n",
       "      <td>Final figure, complete</td>\n",
       "      <td>2017</td>\n",
       "      <td>3676.0</td>\n",
       "      <td>NaN</td>\n",
       "    </tr>\n",
       "    <tr>\n",
       "      <th>161520</th>\n",
       "      <td>Uganda</td>\n",
       "      <td>2014</td>\n",
       "      <td>Total</td>\n",
       "      <td>Both Sexes</td>\n",
       "      <td>92</td>\n",
       "      <td>Census - de facto - complete tabulation</td>\n",
       "      <td>Final figure, complete</td>\n",
       "      <td>2017</td>\n",
       "      <td>6147.0</td>\n",
       "      <td>NaN</td>\n",
       "    </tr>\n",
       "    <tr>\n",
       "      <th>161521</th>\n",
       "      <td>Uganda</td>\n",
       "      <td>2014</td>\n",
       "      <td>Total</td>\n",
       "      <td>Both Sexes</td>\n",
       "      <td>93</td>\n",
       "      <td>Census - de facto - complete tabulation</td>\n",
       "      <td>Final figure, complete</td>\n",
       "      <td>2017</td>\n",
       "      <td>4856.0</td>\n",
       "      <td>NaN</td>\n",
       "    </tr>\n",
       "    <tr>\n",
       "      <th>161522</th>\n",
       "      <td>Uganda</td>\n",
       "      <td>2014</td>\n",
       "      <td>Total</td>\n",
       "      <td>Both Sexes</td>\n",
       "      <td>94</td>\n",
       "      <td>Census - de facto - complete tabulation</td>\n",
       "      <td>Final figure, complete</td>\n",
       "      <td>2017</td>\n",
       "      <td>5378.0</td>\n",
       "      <td>NaN</td>\n",
       "    </tr>\n",
       "  </tbody>\n",
       "</table>\n",
       "<p>17080 rows × 10 columns</p>\n",
       "</div>"
      ],
      "text/plain": [
       "       Country or Area  Year   Area         Sex  Age  \\\n",
       "84054    Åland Islands  2018  Total  Both Sexes    0   \n",
       "84056    Åland Islands  2018  Total  Both Sexes    1   \n",
       "84058    Åland Islands  2018  Total  Both Sexes    2   \n",
       "84059    Åland Islands  2018  Total  Both Sexes    3   \n",
       "84060    Åland Islands  2018  Total  Both Sexes    4   \n",
       "...                ...   ...    ...         ...  ...   \n",
       "161517          Uganda  2014  Total  Both Sexes   90   \n",
       "161519          Uganda  2014  Total  Both Sexes   91   \n",
       "161520          Uganda  2014  Total  Both Sexes   92   \n",
       "161521          Uganda  2014  Total  Both Sexes   93   \n",
       "161522          Uganda  2014  Total  Both Sexes   94   \n",
       "\n",
       "                                    Record Type             Reliability  \\\n",
       "84054                        Estimate - de jure  Final figure, complete   \n",
       "84056                        Estimate - de jure  Final figure, complete   \n",
       "84058                        Estimate - de jure  Final figure, complete   \n",
       "84059                        Estimate - de jure  Final figure, complete   \n",
       "84060                        Estimate - de jure  Final figure, complete   \n",
       "...                                         ...                     ...   \n",
       "161517  Census - de facto - complete tabulation  Final figure, complete   \n",
       "161519  Census - de facto - complete tabulation  Final figure, complete   \n",
       "161520  Census - de facto - complete tabulation  Final figure, complete   \n",
       "161521  Census - de facto - complete tabulation  Final figure, complete   \n",
       "161522  Census - de facto - complete tabulation  Final figure, complete   \n",
       "\n",
       "        Source Year    Value Value Footnotes  \n",
       "84054          2019    287.5               1  \n",
       "84056          2019    302.0               1  \n",
       "84058          2019    320.0               1  \n",
       "84059          2019    317.5               1  \n",
       "84060          2019    330.0               1  \n",
       "...             ...      ...             ...  \n",
       "161517         2017  17114.0             NaN  \n",
       "161519         2017   3676.0             NaN  \n",
       "161520         2017   6147.0             NaN  \n",
       "161521         2017   4856.0             NaN  \n",
       "161522         2017   5378.0             NaN  \n",
       "\n",
       "[17080 rows x 10 columns]"
      ]
     },
     "execution_count": 2,
     "metadata": {},
     "output_type": "execute_result"
    }
   ],
   "source": [
    "df = pd.read_csv(\"1_world_demographics.csv\") \n",
    "df"
   ]
  },
  {
   "cell_type": "code",
   "execution_count": 3,
   "id": "f324ee8c",
   "metadata": {},
   "outputs": [
    {
     "data": {
      "text/plain": [
       "(17080, 10)"
      ]
     },
     "execution_count": 3,
     "metadata": {},
     "output_type": "execute_result"
    }
   ],
   "source": [
    "df.shape"
   ]
  },
  {
   "cell_type": "code",
   "execution_count": 4,
   "id": "5c79935a",
   "metadata": {},
   "outputs": [
    {
     "name": "stdout",
     "output_type": "stream",
     "text": [
      "<class 'pandas.core.frame.DataFrame'>\n",
      "Index: 17080 entries, 84054 to 161522\n",
      "Data columns (total 10 columns):\n",
      " #   Column           Non-Null Count  Dtype  \n",
      "---  ------           --------------  -----  \n",
      " 0   Country or Area  17080 non-null  object \n",
      " 1   Year             17080 non-null  int64  \n",
      " 2   Area             17080 non-null  object \n",
      " 3   Sex              17080 non-null  object \n",
      " 4   Age              17080 non-null  int64  \n",
      " 5   Record Type      17080 non-null  object \n",
      " 6   Reliability      17080 non-null  object \n",
      " 7   Source Year      17080 non-null  int64  \n",
      " 8   Value            17080 non-null  float64\n",
      " 9   Value Footnotes  6408 non-null   object \n",
      "dtypes: float64(1), int64(3), object(6)\n",
      "memory usage: 1.4+ MB\n"
     ]
    }
   ],
   "source": [
    "df.info()"
   ]
  },
  {
   "cell_type": "code",
   "execution_count": 5,
   "id": "f3a48cd6",
   "metadata": {},
   "outputs": [
    {
     "name": "stdout",
     "output_type": "stream",
     "text": [
      "Index(['Country or Area', 'Year', 'Area', 'Sex', 'Age', 'Record Type',\n",
      "       'Reliability', 'Source Year', 'Value', 'Value Footnotes'],\n",
      "      dtype='object')\n"
     ]
    }
   ],
   "source": [
    "print(df.columns)"
   ]
  },
  {
   "cell_type": "code",
   "execution_count": 6,
   "id": "1922bc33",
   "metadata": {},
   "outputs": [
    {
     "data": {
      "text/plain": [
       "Country or Area        0\n",
       "Year                   0\n",
       "Area                   0\n",
       "Sex                    0\n",
       "Age                    0\n",
       "Record Type            0\n",
       "Reliability            0\n",
       "Source Year            0\n",
       "Value                  0\n",
       "Value Footnotes    10672\n",
       "dtype: int64"
      ]
     },
     "execution_count": 6,
     "metadata": {},
     "output_type": "execute_result"
    }
   ],
   "source": [
    "df.isnull().sum()"
   ]
  },
  {
   "cell_type": "code",
   "execution_count": 7,
   "id": "da088993-382d-47ed-ae4b-1d34caf6ff05",
   "metadata": {},
   "outputs": [
    {
     "name": "stdout",
     "output_type": "stream",
     "text": [
      "[  0   1   2   3   4   5   6   7   8   9  10  11  12  13  14  15  16  17\n",
      "  18  19  20  21  22  23  24  25  26  27  28  29  30  31  32  33  34  35\n",
      "  36  37  38  39  40  41  42  43  44  45  46  47  48  49  50  51  52  53\n",
      "  54  55  56  57  58  59  60  61  62  63  64  65  66  67  68  69  70  71\n",
      "  72  73  74  75  76  77  78  79  80  81  82  83  84  85  86  87  88  89\n",
      "  90  91  92  93  94  95  96  97  98  99 100 101 102 103 104 105 106 107\n",
      " 108 109]\n",
      "[2018 2008 2016 2011 2019 2014 2010 2012 2013 2017 2009 2007 2015]\n",
      "[ 287.5  302.   320.  ... 6147.  4856.  5378. ]\n"
     ]
    }
   ],
   "source": [
    "# Print unique values in 'Column5'\n",
    "print(df['Age'].unique())\n",
    "\n",
    "# Print unique values in 'Column6'\n",
    "print(df['Year'].unique())\n",
    "\n",
    "# Print unique values in 'Column7'\n",
    "print(df['Value'].unique())"
   ]
  },
  {
   "cell_type": "code",
   "execution_count": 8,
   "id": "f62dcbd8",
   "metadata": {},
   "outputs": [
    {
     "data": {
      "image/png": "[encoded data removed]",
      "text/plain": [
       "<Figure size 1000x600 with 1 Axes>"
      ]
     },
     "metadata": {},
     "output_type": "display_data"
    }
   ],
   "source": [
    "\n",
    "\n",
    "\n",
    "# Create a bar chart for age distribution\n",
    "plt.figure(figsize=(10, 6))\n",
    "plt.bar(df[\"Source Year\"], df[\"Age\"])\n",
    "plt.xlabel('source year')\n",
    "plt.ylabel('Age')\n",
    "plt.title('Bar Chart for Age Distribution in the Population ')\n",
    "plt.show()\n"
   ]
  },
  {
   "cell_type": "code",
   "execution_count": 9,
   "id": "fa3e99b4-53a5-47b2-8ece-07ef56269a3d",
   "metadata": {},
   "outputs": [
    {
     "data": {
      "image/png": "[encoded data removed]",
      "text/plain": [
       "<Figure size 1000x600 with 1 Axes>"
      ]
     },
     "metadata": {},
     "output_type": "display_data"
    }
   ],
   "source": [
    "plt.figure(figsize=(10, 6))\n",
    "plt.bar(df[\"Year\"], df[\"Age\"])\n",
    "plt.xlabel('year')\n",
    "plt.ylabel('Age')\n",
    "plt.title('Bar Chart for Age Distribution in the Population ')\n",
    "plt.show()\n"
   ]
  },
  {
   "cell_type": "code",
   "execution_count": null,
   "id": "fb226152-381c-4cb4-b6b4-84263b1e69a2",
   "metadata": {},
   "outputs": [],
   "source": []
  }
 ],
 "metadata": {
  "kernelspec": {
   "display_name": "Python 3 (ipykernel)",
   "language": "python",
   "name": "python3"
  },
  "language_info": {
   "codemirror_mode": {
    "name": "ipython",
    "version": 3
   },
   "file_extension": ".py",
   "mimetype": "text/x-python",
   "name": "python",
   "nbconvert_exporter": "python",
   "pygments_lexer": "ipython3",
   "version": "3.11.0"
  }
 },
 "nbformat": 4,
 "nbformat_minor": 5
}
